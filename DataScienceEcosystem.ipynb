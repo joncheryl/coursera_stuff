{
 "cells": [
  {
   "cell_type": "markdown",
   "id": "de746e70-d704-4809-b36a-2164473428ca",
   "metadata": {},
   "source": [
    "# Data Science Tools and Ecosystem"
   ]
  },
  {
   "cell_type": "markdown",
   "id": "9ebf2ef4-80f3-466d-bc88-77e4b02aa494",
   "metadata": {},
   "source": [
    "In this notebook, Data Science Tools and Ecosystem are summarized."
   ]
  },
  {
   "cell_type": "markdown",
   "id": "6fbe0025-3acb-4108-8761-8de8d6bf9c3b",
   "metadata": {},
   "source": [
    "**Objectives:**\n",
    "- list popular Data Science languages\n",
    "- present simple arithmetic expressions\n",
    "- create simple tables in markdown"
   ]
  },
  {
   "cell_type": "markdown",
   "id": "47633d05-3206-4d84-a47d-27b611cdae37",
   "metadata": {},
   "source": [
    "## Author\n",
    "John Sherrill"
   ]
  },
  {
   "cell_type": "markdown",
   "id": "da1cd033-461a-49c1-bfb8-874d4269260f",
   "metadata": {
    "tags": []
   },
   "source": [
    "Some of the popular languages that Data Scientists use are:\n",
    "- Python\n",
    "- R\n",
    "- Julia"
   ]
  },
  {
   "cell_type": "markdown",
   "id": "e5cc434e-9fad-47e3-86e6-783b4a7eceb9",
   "metadata": {},
   "source": [
    "Some of the commonly used libraries used by Data Scientists include:\n",
    "* Pandas\n",
    "* scikit-learn\n",
    "* Plotly"
   ]
  },
  {
   "cell_type": "markdown",
   "id": "95da9abc-edfa-4d57-bc22-a02ac3cee259",
   "metadata": {},
   "source": [
    "| Data Science Tools |\n",
    "--\n",
    "| Jupyter Lab |\n",
    "| git |\n",
    "| Spyder |"
   ]
  },
  {
   "cell_type": "markdown",
   "id": "9fbd6a09-897d-496e-a9bb-9e6b781e95e6",
   "metadata": {},
   "source": [
    "### Below are a few examples of evaluating arithmetic expressions in Python"
   ]
  },
  {
   "cell_type": "code",
   "execution_count": 4,
   "id": "a1e37d81-ccd2-4a40-bf58-a3d756c9e591",
   "metadata": {
    "tags": []
   },
   "outputs": [
    {
     "data": {
      "text/plain": [
       "17"
      ]
     },
     "execution_count": 4,
     "metadata": {},
     "output_type": "execute_result"
    }
   ],
   "source": [
    "# This a simple arithmetic expression to mutiply then add integers\n",
    "(3*4)+5"
   ]
  },
  {
   "cell_type": "code",
   "execution_count": 5,
   "id": "3bfb84f1-157f-4e86-8e2a-c210f83a10c7",
   "metadata": {
    "tags": []
   },
   "outputs": [
    {
     "data": {
      "text/plain": [
       "3.3333333333333335"
      ]
     },
     "execution_count": 5,
     "metadata": {},
     "output_type": "execute_result"
    }
   ],
   "source": [
    "# This will convert 200 minutes to hours by diving by 60\n",
    "200/60"
   ]
  }
 ],
 "metadata": {
  "kernelspec": {
   "display_name": "Python",
   "language": "python",
   "name": "conda-env-python-py"
  },
  "language_info": {
   "codemirror_mode": {
    "name": "ipython",
    "version": 3
   },
   "file_extension": ".py",
   "mimetype": "text/x-python",
   "name": "python",
   "nbconvert_exporter": "python",
   "pygments_lexer": "ipython3",
   "version": "3.7.12"
  }
 },
 "nbformat": 4,
 "nbformat_minor": 5
}
